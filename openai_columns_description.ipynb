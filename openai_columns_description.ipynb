{
 "cells": [
  {
   "cell_type": "code",
   "execution_count": 34,
   "id": "cdba6ccb-5487-4b1a-9927-49804dd5db1d",
   "metadata": {},
   "outputs": [],
   "source": [
    "import sys\n",
    "sys.path.append('')    # ADD PATH TO REPOSITORY HERE SO YOU CAN CALL FUNCTIONS\n",
    "\n",
    "import os\n",
    "\n",
    "from pprint import pformat\n",
    "from importlib import reload\n",
    "\n",
    "import pandas as pd\n",
    "from transformers import AutoTokenizer\n",
    "import openai\n",
    "\n",
    "import utils, openai_utils"
   ]
  },
  {
   "cell_type": "code",
   "execution_count": 52,
   "id": "d63b0133-bf5a-48c8-ac60-f7806bc85d2b",
   "metadata": {},
   "outputs": [
    {
     "data": {
      "text/plain": [
       "<module 'openai_utils' from '/home/igor/longevity/longevity/openai_utils.py'>"
      ]
     },
     "execution_count": 52,
     "metadata": {},
     "output_type": "execute_result"
    }
   ],
   "source": [
    "reload(utils)\n",
    "reload(openai_utils)"
   ]
  },
  {
   "cell_type": "code",
   "execution_count": 208,
   "id": "f5ff3561-a272-4557-9087-1da50e4a7ba7",
   "metadata": {},
   "outputs": [],
   "source": [
    "dataset_dir = './data/nlm/Transposable_element_landscape_in_Drosophila_populations_selected_for_longevity/'"
   ]
  },
  {
   "cell_type": "code",
   "execution_count": 209,
   "id": "d802a755-0ce0-4874-b269-440ffce7c794",
   "metadata": {},
   "outputs": [
    {
     "data": {
      "text/plain": [
       "['__MACOSX',\n",
       " 'Average_Expression_per_Insertion.xlsx',\n",
       " '.ipynb_checkpoints',\n",
       " 'description.txt',\n",
       " 'outputs']"
      ]
     },
     "execution_count": 209,
     "metadata": {},
     "output_type": "execute_result"
    }
   ],
   "source": [
    "os.listdir(dataset_dir)"
   ]
  },
  {
   "cell_type": "code",
   "execution_count": 210,
   "id": "0fe5ddf5-d4b8-4e30-9678-f728634afa12",
   "metadata": {},
   "outputs": [],
   "source": [
    "data_filename = 'Average_Expression_per_Insertion.xlsx'\n",
    "header = 0\n",
    "\n",
    "data_extension = data_filename.rsplit('.', 1)[-1]\n",
    "\n",
    "description_fp = os.path.join(dataset_dir, 'description.txt')\n",
    "if os.path.isfile(description_fp):\n",
    "    with open(description_fp, 'r') as f:\n",
    "        description = f.read()\n",
    "else:\n",
    "    description = ''\n",
    "\n",
    "data_fp = os.path.join(dataset_dir, data_filename)"
   ]
  },
  {
   "cell_type": "code",
   "execution_count": 211,
   "id": "84c121e2-7803-4aad-9a50-c283b2c1ae3e",
   "metadata": {},
   "outputs": [
    {
     "name": "stdout",
     "output_type": "stream",
     "text": [
      "Legend\n",
      "Summary\n",
      "Regime + Age (females)\n",
      "Regime x Age (females)\n"
     ]
    }
   ],
   "source": [
    "if data_extension in ['xls', 'xlsx']:\n",
    "    print('\\n'.join(pd.ExcelFile(data_fp).sheet_names))"
   ]
  },
  {
   "cell_type": "code",
   "execution_count": 212,
   "id": "caff2a33-5c8a-45dd-8594-78750c67f2bf",
   "metadata": {},
   "outputs": [],
   "source": [
    "sheet_name = 'Regime + Age (females)' # for xls"
   ]
  },
  {
   "cell_type": "code",
   "execution_count": 213,
   "id": "c6cf40e4-92cb-4222-8737-fb64c7bb5f70",
   "metadata": {},
   "outputs": [],
   "source": [
    "match data_extension:\n",
    "    case 'csv':\n",
    "        data = pd.read_csv(data_fp, header=header)\n",
    "    case 'tsv' | 'tab':\n",
    "        data = pd.read_csv(data_fp, sep='\\t', header=header)\n",
    "    case 'xls' | 'xlsx':\n",
    "        if sheet_name:\n",
    "            data = pd.read_excel(data_fp, sheet_name=sheet_name, header=header)\n",
    "        else:\n",
    "            data = pd.read_excel(data_fp, header=header)\n",
    "    case _:\n",
    "        print('Unexpected file extension.')"
   ]
  },
  {
   "cell_type": "code",
   "execution_count": 214,
   "id": "2c3c21d5-4b04-47ff-a426-460a8b8616c1",
   "metadata": {},
   "outputs": [
    {
     "data": {
      "text/html": [
       "<div>\n",
       "<style scoped>\n",
       "    .dataframe tbody tr th:only-of-type {\n",
       "        vertical-align: middle;\n",
       "    }\n",
       "\n",
       "    .dataframe tbody tr th {\n",
       "        vertical-align: top;\n",
       "    }\n",
       "\n",
       "    .dataframe thead th {\n",
       "        text-align: right;\n",
       "    }\n",
       "</style>\n",
       "<table border=\"1\" class=\"dataframe\">\n",
       "  <thead>\n",
       "    <tr style=\"text-align: right;\">\n",
       "      <th></th>\n",
       "      <th>GeneFBgn_or_TEfamily</th>\n",
       "      <th>Age_old_vs_young.baseMean</th>\n",
       "      <th>Age_old_vs_young.log2FoldChange</th>\n",
       "      <th>Age_old_vs_young.lfcSE</th>\n",
       "      <th>Age_old_vs_young.stat</th>\n",
       "      <th>Age_old_vs_young.pvalue</th>\n",
       "      <th>Age_old_vs_young.padj</th>\n",
       "      <th>Regime_Sel_vs_Cont.baseMean</th>\n",
       "      <th>Regime_Sel_vs_Cont.log2FoldChange</th>\n",
       "      <th>Regime_Sel_vs_Cont.lfcSE</th>\n",
       "      <th>Regime_Sel_vs_Cont.stat</th>\n",
       "      <th>Regime_Sel_vs_Cont.pvalue</th>\n",
       "      <th>Regime_Sel_vs_Cont.padj</th>\n",
       "    </tr>\n",
       "  </thead>\n",
       "  <tbody>\n",
       "    <tr>\n",
       "      <th>0</th>\n",
       "      <td>1360</td>\n",
       "      <td>19.215358</td>\n",
       "      <td>-0.037839</td>\n",
       "      <td>0.172999</td>\n",
       "      <td>-0.218726</td>\n",
       "      <td>0.826864</td>\n",
       "      <td>0.919146</td>\n",
       "      <td>19.215358</td>\n",
       "      <td>-0.249780</td>\n",
       "      <td>0.173165</td>\n",
       "      <td>-1.442438</td>\n",
       "      <td>1.491789e-01</td>\n",
       "      <td>0.323107</td>\n",
       "    </tr>\n",
       "    <tr>\n",
       "      <th>1</th>\n",
       "      <td>412</td>\n",
       "      <td>34.934478</td>\n",
       "      <td>-0.482065</td>\n",
       "      <td>0.135795</td>\n",
       "      <td>-3.549934</td>\n",
       "      <td>0.000385</td>\n",
       "      <td>0.004163</td>\n",
       "      <td>34.934478</td>\n",
       "      <td>-0.718406</td>\n",
       "      <td>0.136388</td>\n",
       "      <td>-5.267379</td>\n",
       "      <td>1.383855e-07</td>\n",
       "      <td>0.000005</td>\n",
       "    </tr>\n",
       "    <tr>\n",
       "      <th>2</th>\n",
       "      <td>ACCORD</td>\n",
       "      <td>40.701922</td>\n",
       "      <td>0.267794</td>\n",
       "      <td>0.249971</td>\n",
       "      <td>1.071303</td>\n",
       "      <td>0.284033</td>\n",
       "      <td>0.526333</td>\n",
       "      <td>40.701922</td>\n",
       "      <td>0.078430</td>\n",
       "      <td>0.249958</td>\n",
       "      <td>0.313771</td>\n",
       "      <td>7.536947e-01</td>\n",
       "      <td>0.867889</td>\n",
       "    </tr>\n",
       "    <tr>\n",
       "      <th>3</th>\n",
       "      <td>AF222049</td>\n",
       "      <td>47.339745</td>\n",
       "      <td>-0.303948</td>\n",
       "      <td>0.238337</td>\n",
       "      <td>-1.275287</td>\n",
       "      <td>0.202208</td>\n",
       "      <td>0.432361</td>\n",
       "      <td>47.339745</td>\n",
       "      <td>-0.860454</td>\n",
       "      <td>0.238539</td>\n",
       "      <td>-3.607183</td>\n",
       "      <td>3.095394e-04</td>\n",
       "      <td>0.003459</td>\n",
       "    </tr>\n",
       "    <tr>\n",
       "      <th>4</th>\n",
       "      <td>AF541951</td>\n",
       "      <td>15.045754</td>\n",
       "      <td>-0.427709</td>\n",
       "      <td>0.238881</td>\n",
       "      <td>-1.790472</td>\n",
       "      <td>0.073378</td>\n",
       "      <td>0.224279</td>\n",
       "      <td>15.045754</td>\n",
       "      <td>-0.943033</td>\n",
       "      <td>0.241063</td>\n",
       "      <td>-3.911975</td>\n",
       "      <td>9.154443e-05</td>\n",
       "      <td>0.001297</td>\n",
       "    </tr>\n",
       "    <tr>\n",
       "      <th>...</th>\n",
       "      <td>...</td>\n",
       "      <td>...</td>\n",
       "      <td>...</td>\n",
       "      <td>...</td>\n",
       "      <td>...</td>\n",
       "      <td>...</td>\n",
       "      <td>...</td>\n",
       "      <td>...</td>\n",
       "      <td>...</td>\n",
       "      <td>...</td>\n",
       "      <td>...</td>\n",
       "      <td>...</td>\n",
       "      <td>...</td>\n",
       "    </tr>\n",
       "    <tr>\n",
       "      <th>13380</th>\n",
       "      <td>FBgn0085819</td>\n",
       "      <td>4.081353</td>\n",
       "      <td>0.362049</td>\n",
       "      <td>0.412987</td>\n",
       "      <td>0.876658</td>\n",
       "      <td>0.380672</td>\n",
       "      <td>0.621989</td>\n",
       "      <td>4.081353</td>\n",
       "      <td>0.250045</td>\n",
       "      <td>0.412939</td>\n",
       "      <td>0.605525</td>\n",
       "      <td>5.448304e-01</td>\n",
       "      <td>0.726636</td>\n",
       "    </tr>\n",
       "    <tr>\n",
       "      <th>13381</th>\n",
       "      <td>FBgn0265592</td>\n",
       "      <td>0.614389</td>\n",
       "      <td>-0.596891</td>\n",
       "      <td>1.199598</td>\n",
       "      <td>-0.497575</td>\n",
       "      <td>0.618783</td>\n",
       "      <td>NaN</td>\n",
       "      <td>0.614389</td>\n",
       "      <td>1.010618</td>\n",
       "      <td>1.205353</td>\n",
       "      <td>0.838441</td>\n",
       "      <td>4.017830e-01</td>\n",
       "      <td>NaN</td>\n",
       "    </tr>\n",
       "    <tr>\n",
       "      <th>13382</th>\n",
       "      <td>FBgn0036953</td>\n",
       "      <td>6.031805</td>\n",
       "      <td>0.682737</td>\n",
       "      <td>0.497381</td>\n",
       "      <td>1.372665</td>\n",
       "      <td>0.169857</td>\n",
       "      <td>0.388206</td>\n",
       "      <td>6.031805</td>\n",
       "      <td>0.752479</td>\n",
       "      <td>0.498064</td>\n",
       "      <td>1.510808</td>\n",
       "      <td>1.308373e-01</td>\n",
       "      <td>0.297576</td>\n",
       "    </tr>\n",
       "    <tr>\n",
       "      <th>13383</th>\n",
       "      <td>FBgn0264350</td>\n",
       "      <td>0.053149</td>\n",
       "      <td>-0.242132</td>\n",
       "      <td>3.026188</td>\n",
       "      <td>-0.080012</td>\n",
       "      <td>0.936228</td>\n",
       "      <td>NaN</td>\n",
       "      <td>0.053149</td>\n",
       "      <td>0.231245</td>\n",
       "      <td>3.026188</td>\n",
       "      <td>0.076414</td>\n",
       "      <td>9.390894e-01</td>\n",
       "      <td>NaN</td>\n",
       "    </tr>\n",
       "    <tr>\n",
       "      <th>13384</th>\n",
       "      <td>FBgn0266403</td>\n",
       "      <td>3.631846</td>\n",
       "      <td>0.104399</td>\n",
       "      <td>0.418861</td>\n",
       "      <td>0.249246</td>\n",
       "      <td>0.803170</td>\n",
       "      <td>0.906025</td>\n",
       "      <td>3.631846</td>\n",
       "      <td>-0.317320</td>\n",
       "      <td>0.419562</td>\n",
       "      <td>-0.756313</td>\n",
       "      <td>4.494614e-01</td>\n",
       "      <td>0.647025</td>\n",
       "    </tr>\n",
       "  </tbody>\n",
       "</table>\n",
       "<p>13385 rows × 13 columns</p>\n",
       "</div>"
      ],
      "text/plain": [
       "      GeneFBgn_or_TEfamily  Age_old_vs_young.baseMean  \\\n",
       "0                     1360                  19.215358   \n",
       "1                      412                  34.934478   \n",
       "2                   ACCORD                  40.701922   \n",
       "3                 AF222049                  47.339745   \n",
       "4                 AF541951                  15.045754   \n",
       "...                    ...                        ...   \n",
       "13380          FBgn0085819                   4.081353   \n",
       "13381          FBgn0265592                   0.614389   \n",
       "13382          FBgn0036953                   6.031805   \n",
       "13383          FBgn0264350                   0.053149   \n",
       "13384          FBgn0266403                   3.631846   \n",
       "\n",
       "       Age_old_vs_young.log2FoldChange  Age_old_vs_young.lfcSE  \\\n",
       "0                            -0.037839                0.172999   \n",
       "1                            -0.482065                0.135795   \n",
       "2                             0.267794                0.249971   \n",
       "3                            -0.303948                0.238337   \n",
       "4                            -0.427709                0.238881   \n",
       "...                                ...                     ...   \n",
       "13380                         0.362049                0.412987   \n",
       "13381                        -0.596891                1.199598   \n",
       "13382                         0.682737                0.497381   \n",
       "13383                        -0.242132                3.026188   \n",
       "13384                         0.104399                0.418861   \n",
       "\n",
       "       Age_old_vs_young.stat  Age_old_vs_young.pvalue  Age_old_vs_young.padj  \\\n",
       "0                  -0.218726                 0.826864               0.919146   \n",
       "1                  -3.549934                 0.000385               0.004163   \n",
       "2                   1.071303                 0.284033               0.526333   \n",
       "3                  -1.275287                 0.202208               0.432361   \n",
       "4                  -1.790472                 0.073378               0.224279   \n",
       "...                      ...                      ...                    ...   \n",
       "13380               0.876658                 0.380672               0.621989   \n",
       "13381              -0.497575                 0.618783                    NaN   \n",
       "13382               1.372665                 0.169857               0.388206   \n",
       "13383              -0.080012                 0.936228                    NaN   \n",
       "13384               0.249246                 0.803170               0.906025   \n",
       "\n",
       "       Regime_Sel_vs_Cont.baseMean  Regime_Sel_vs_Cont.log2FoldChange  \\\n",
       "0                        19.215358                          -0.249780   \n",
       "1                        34.934478                          -0.718406   \n",
       "2                        40.701922                           0.078430   \n",
       "3                        47.339745                          -0.860454   \n",
       "4                        15.045754                          -0.943033   \n",
       "...                            ...                                ...   \n",
       "13380                     4.081353                           0.250045   \n",
       "13381                     0.614389                           1.010618   \n",
       "13382                     6.031805                           0.752479   \n",
       "13383                     0.053149                           0.231245   \n",
       "13384                     3.631846                          -0.317320   \n",
       "\n",
       "       Regime_Sel_vs_Cont.lfcSE  Regime_Sel_vs_Cont.stat  \\\n",
       "0                      0.173165                -1.442438   \n",
       "1                      0.136388                -5.267379   \n",
       "2                      0.249958                 0.313771   \n",
       "3                      0.238539                -3.607183   \n",
       "4                      0.241063                -3.911975   \n",
       "...                         ...                      ...   \n",
       "13380                  0.412939                 0.605525   \n",
       "13381                  1.205353                 0.838441   \n",
       "13382                  0.498064                 1.510808   \n",
       "13383                  3.026188                 0.076414   \n",
       "13384                  0.419562                -0.756313   \n",
       "\n",
       "       Regime_Sel_vs_Cont.pvalue  Regime_Sel_vs_Cont.padj  \n",
       "0                   1.491789e-01                 0.323107  \n",
       "1                   1.383855e-07                 0.000005  \n",
       "2                   7.536947e-01                 0.867889  \n",
       "3                   3.095394e-04                 0.003459  \n",
       "4                   9.154443e-05                 0.001297  \n",
       "...                          ...                      ...  \n",
       "13380               5.448304e-01                 0.726636  \n",
       "13381               4.017830e-01                      NaN  \n",
       "13382               1.308373e-01                 0.297576  \n",
       "13383               9.390894e-01                      NaN  \n",
       "13384               4.494614e-01                 0.647025  \n",
       "\n",
       "[13385 rows x 13 columns]"
      ]
     },
     "execution_count": 214,
     "metadata": {},
     "output_type": "execute_result"
    }
   ],
   "source": [
    "data"
   ]
  },
  {
   "cell_type": "code",
   "execution_count": 215,
   "id": "af431def-8da5-4f2b-bb43-40aaea8bbb70",
   "metadata": {},
   "outputs": [
    {
     "data": {
      "text/plain": [
       "Index(['GeneFBgn_or_TEfamily', 'Age_old_vs_young.baseMean',\n",
       "       'Age_old_vs_young.log2FoldChange', 'Age_old_vs_young.lfcSE',\n",
       "       'Age_old_vs_young.stat', 'Age_old_vs_young.pvalue',\n",
       "       'Age_old_vs_young.padj', 'Regime_Sel_vs_Cont.baseMean',\n",
       "       'Regime_Sel_vs_Cont.log2FoldChange', 'Regime_Sel_vs_Cont.lfcSE',\n",
       "       'Regime_Sel_vs_Cont.stat', 'Regime_Sel_vs_Cont.pvalue',\n",
       "       'Regime_Sel_vs_Cont.padj'],\n",
       "      dtype='object')"
      ]
     },
     "execution_count": 215,
     "metadata": {},
     "output_type": "execute_result"
    }
   ],
   "source": [
    "data.columns"
   ]
  },
  {
   "cell_type": "code",
   "execution_count": 182,
   "id": "58ba6171-058b-4410-a81f-88859f96b724",
   "metadata": {
    "scrolled": true
   },
   "outputs": [
    {
     "ename": "KeyError",
     "evalue": "\"['Unnamed: 7'] not found in axis\"",
     "output_type": "error",
     "traceback": [
      "\u001b[0;31m---------------------------------------------------------------------------\u001b[0m",
      "\u001b[0;31mKeyError\u001b[0m                                  Traceback (most recent call last)",
      "Cell \u001b[0;32mIn[182], line 1\u001b[0m\n\u001b[0;32m----> 1\u001b[0m \u001b[43mdata\u001b[49m\u001b[38;5;241;43m.\u001b[39;49m\u001b[43mdrop\u001b[49m\u001b[43m(\u001b[49m\u001b[38;5;124;43m'\u001b[39;49m\u001b[38;5;124;43mUnnamed: 7\u001b[39;49m\u001b[38;5;124;43m'\u001b[39;49m\u001b[43m,\u001b[49m\u001b[43m \u001b[49m\u001b[43maxis\u001b[49m\u001b[38;5;241;43m=\u001b[39;49m\u001b[38;5;124;43m'\u001b[39;49m\u001b[38;5;124;43mcolumns\u001b[39;49m\u001b[38;5;124;43m'\u001b[39;49m\u001b[43m,\u001b[49m\u001b[43m \u001b[49m\u001b[43minplace\u001b[49m\u001b[38;5;241;43m=\u001b[39;49m\u001b[38;5;28;43;01mTrue\u001b[39;49;00m\u001b[43m)\u001b[49m\n",
      "File \u001b[0;32m~/miniforge3/envs/longevity/lib/python3.11/site-packages/pandas/core/frame.py:5581\u001b[0m, in \u001b[0;36mDataFrame.drop\u001b[0;34m(self, labels, axis, index, columns, level, inplace, errors)\u001b[0m\n\u001b[1;32m   5433\u001b[0m \u001b[38;5;28;01mdef\u001b[39;00m \u001b[38;5;21mdrop\u001b[39m(\n\u001b[1;32m   5434\u001b[0m     \u001b[38;5;28mself\u001b[39m,\n\u001b[1;32m   5435\u001b[0m     labels: IndexLabel \u001b[38;5;241m|\u001b[39m \u001b[38;5;28;01mNone\u001b[39;00m \u001b[38;5;241m=\u001b[39m \u001b[38;5;28;01mNone\u001b[39;00m,\n\u001b[0;32m   (...)\u001b[0m\n\u001b[1;32m   5442\u001b[0m     errors: IgnoreRaise \u001b[38;5;241m=\u001b[39m \u001b[38;5;124m\"\u001b[39m\u001b[38;5;124mraise\u001b[39m\u001b[38;5;124m\"\u001b[39m,\n\u001b[1;32m   5443\u001b[0m ) \u001b[38;5;241m-\u001b[39m\u001b[38;5;241m>\u001b[39m DataFrame \u001b[38;5;241m|\u001b[39m \u001b[38;5;28;01mNone\u001b[39;00m:\n\u001b[1;32m   5444\u001b[0m \u001b[38;5;250m    \u001b[39m\u001b[38;5;124;03m\"\"\"\u001b[39;00m\n\u001b[1;32m   5445\u001b[0m \u001b[38;5;124;03m    Drop specified labels from rows or columns.\u001b[39;00m\n\u001b[1;32m   5446\u001b[0m \n\u001b[0;32m   (...)\u001b[0m\n\u001b[1;32m   5579\u001b[0m \u001b[38;5;124;03m            weight  1.0     0.8\u001b[39;00m\n\u001b[1;32m   5580\u001b[0m \u001b[38;5;124;03m    \"\"\"\u001b[39;00m\n\u001b[0;32m-> 5581\u001b[0m     \u001b[38;5;28;01mreturn\u001b[39;00m \u001b[38;5;28;43msuper\u001b[39;49m\u001b[43m(\u001b[49m\u001b[43m)\u001b[49m\u001b[38;5;241;43m.\u001b[39;49m\u001b[43mdrop\u001b[49m\u001b[43m(\u001b[49m\n\u001b[1;32m   5582\u001b[0m \u001b[43m        \u001b[49m\u001b[43mlabels\u001b[49m\u001b[38;5;241;43m=\u001b[39;49m\u001b[43mlabels\u001b[49m\u001b[43m,\u001b[49m\n\u001b[1;32m   5583\u001b[0m \u001b[43m        \u001b[49m\u001b[43maxis\u001b[49m\u001b[38;5;241;43m=\u001b[39;49m\u001b[43maxis\u001b[49m\u001b[43m,\u001b[49m\n\u001b[1;32m   5584\u001b[0m \u001b[43m        \u001b[49m\u001b[43mindex\u001b[49m\u001b[38;5;241;43m=\u001b[39;49m\u001b[43mindex\u001b[49m\u001b[43m,\u001b[49m\n\u001b[1;32m   5585\u001b[0m \u001b[43m        \u001b[49m\u001b[43mcolumns\u001b[49m\u001b[38;5;241;43m=\u001b[39;49m\u001b[43mcolumns\u001b[49m\u001b[43m,\u001b[49m\n\u001b[1;32m   5586\u001b[0m \u001b[43m        \u001b[49m\u001b[43mlevel\u001b[49m\u001b[38;5;241;43m=\u001b[39;49m\u001b[43mlevel\u001b[49m\u001b[43m,\u001b[49m\n\u001b[1;32m   5587\u001b[0m \u001b[43m        \u001b[49m\u001b[43minplace\u001b[49m\u001b[38;5;241;43m=\u001b[39;49m\u001b[43minplace\u001b[49m\u001b[43m,\u001b[49m\n\u001b[1;32m   5588\u001b[0m \u001b[43m        \u001b[49m\u001b[43merrors\u001b[49m\u001b[38;5;241;43m=\u001b[39;49m\u001b[43merrors\u001b[49m\u001b[43m,\u001b[49m\n\u001b[1;32m   5589\u001b[0m \u001b[43m    \u001b[49m\u001b[43m)\u001b[49m\n",
      "File \u001b[0;32m~/miniforge3/envs/longevity/lib/python3.11/site-packages/pandas/core/generic.py:4788\u001b[0m, in \u001b[0;36mNDFrame.drop\u001b[0;34m(self, labels, axis, index, columns, level, inplace, errors)\u001b[0m\n\u001b[1;32m   4786\u001b[0m \u001b[38;5;28;01mfor\u001b[39;00m axis, labels \u001b[38;5;129;01min\u001b[39;00m axes\u001b[38;5;241m.\u001b[39mitems():\n\u001b[1;32m   4787\u001b[0m     \u001b[38;5;28;01mif\u001b[39;00m labels \u001b[38;5;129;01mis\u001b[39;00m \u001b[38;5;129;01mnot\u001b[39;00m \u001b[38;5;28;01mNone\u001b[39;00m:\n\u001b[0;32m-> 4788\u001b[0m         obj \u001b[38;5;241m=\u001b[39m \u001b[43mobj\u001b[49m\u001b[38;5;241;43m.\u001b[39;49m\u001b[43m_drop_axis\u001b[49m\u001b[43m(\u001b[49m\u001b[43mlabels\u001b[49m\u001b[43m,\u001b[49m\u001b[43m \u001b[49m\u001b[43maxis\u001b[49m\u001b[43m,\u001b[49m\u001b[43m \u001b[49m\u001b[43mlevel\u001b[49m\u001b[38;5;241;43m=\u001b[39;49m\u001b[43mlevel\u001b[49m\u001b[43m,\u001b[49m\u001b[43m \u001b[49m\u001b[43merrors\u001b[49m\u001b[38;5;241;43m=\u001b[39;49m\u001b[43merrors\u001b[49m\u001b[43m)\u001b[49m\n\u001b[1;32m   4790\u001b[0m \u001b[38;5;28;01mif\u001b[39;00m inplace:\n\u001b[1;32m   4791\u001b[0m     \u001b[38;5;28mself\u001b[39m\u001b[38;5;241m.\u001b[39m_update_inplace(obj)\n",
      "File \u001b[0;32m~/miniforge3/envs/longevity/lib/python3.11/site-packages/pandas/core/generic.py:4830\u001b[0m, in \u001b[0;36mNDFrame._drop_axis\u001b[0;34m(self, labels, axis, level, errors, only_slice)\u001b[0m\n\u001b[1;32m   4828\u001b[0m         new_axis \u001b[38;5;241m=\u001b[39m axis\u001b[38;5;241m.\u001b[39mdrop(labels, level\u001b[38;5;241m=\u001b[39mlevel, errors\u001b[38;5;241m=\u001b[39merrors)\n\u001b[1;32m   4829\u001b[0m     \u001b[38;5;28;01melse\u001b[39;00m:\n\u001b[0;32m-> 4830\u001b[0m         new_axis \u001b[38;5;241m=\u001b[39m \u001b[43maxis\u001b[49m\u001b[38;5;241;43m.\u001b[39;49m\u001b[43mdrop\u001b[49m\u001b[43m(\u001b[49m\u001b[43mlabels\u001b[49m\u001b[43m,\u001b[49m\u001b[43m \u001b[49m\u001b[43merrors\u001b[49m\u001b[38;5;241;43m=\u001b[39;49m\u001b[43merrors\u001b[49m\u001b[43m)\u001b[49m\n\u001b[1;32m   4831\u001b[0m     indexer \u001b[38;5;241m=\u001b[39m axis\u001b[38;5;241m.\u001b[39mget_indexer(new_axis)\n\u001b[1;32m   4833\u001b[0m \u001b[38;5;66;03m# Case for non-unique axis\u001b[39;00m\n\u001b[1;32m   4834\u001b[0m \u001b[38;5;28;01melse\u001b[39;00m:\n",
      "File \u001b[0;32m~/miniforge3/envs/longevity/lib/python3.11/site-packages/pandas/core/indexes/base.py:7070\u001b[0m, in \u001b[0;36mIndex.drop\u001b[0;34m(self, labels, errors)\u001b[0m\n\u001b[1;32m   7068\u001b[0m \u001b[38;5;28;01mif\u001b[39;00m mask\u001b[38;5;241m.\u001b[39many():\n\u001b[1;32m   7069\u001b[0m     \u001b[38;5;28;01mif\u001b[39;00m errors \u001b[38;5;241m!=\u001b[39m \u001b[38;5;124m\"\u001b[39m\u001b[38;5;124mignore\u001b[39m\u001b[38;5;124m\"\u001b[39m:\n\u001b[0;32m-> 7070\u001b[0m         \u001b[38;5;28;01mraise\u001b[39;00m \u001b[38;5;167;01mKeyError\u001b[39;00m(\u001b[38;5;124mf\u001b[39m\u001b[38;5;124m\"\u001b[39m\u001b[38;5;132;01m{\u001b[39;00mlabels[mask]\u001b[38;5;241m.\u001b[39mtolist()\u001b[38;5;132;01m}\u001b[39;00m\u001b[38;5;124m not found in axis\u001b[39m\u001b[38;5;124m\"\u001b[39m)\n\u001b[1;32m   7071\u001b[0m     indexer \u001b[38;5;241m=\u001b[39m indexer[\u001b[38;5;241m~\u001b[39mmask]\n\u001b[1;32m   7072\u001b[0m \u001b[38;5;28;01mreturn\u001b[39;00m \u001b[38;5;28mself\u001b[39m\u001b[38;5;241m.\u001b[39mdelete(indexer)\n",
      "\u001b[0;31mKeyError\u001b[0m: \"['Unnamed: 7'] not found in axis\""
     ]
    }
   ],
   "source": [
    "data.drop('Unnamed: 7', axis='columns', inplace=True)"
   ]
  },
  {
   "cell_type": "code",
   "execution_count": 216,
   "id": "e6270292-11df-46f6-a1d6-df2693e546be",
   "metadata": {},
   "outputs": [],
   "source": [
    "data_sample = data.sample(20)\n",
    "data_str = utils.df_to_str(data_sample)"
   ]
  },
  {
   "cell_type": "code",
   "execution_count": 217,
   "id": "7050405b-25f0-4352-b783-d5e23f598122",
   "metadata": {
    "scrolled": true
   },
   "outputs": [
    {
     "name": "stdout",
     "output_type": "stream",
     "text": [
      "| GeneFBgn_or_TEfamily   |   Age_old_vs_young.baseMean |   Age_old_vs_young.log2FoldChange |   Age_old_vs_young.lfcSE |   Age_old_vs_young.stat |   Age_old_vs_young.pvalue |   Age_old_vs_young.padj |   Regime_Sel_vs_Cont.baseMean |   Regime_Sel_vs_Cont.log2FoldChange |   Regime_Sel_vs_Cont.lfcSE |   Regime_Sel_vs_Cont.stat |   Regime_Sel_vs_Cont.pvalue |   Regime_Sel_vs_Cont.padj |\n",
      "|------------------------|-----------------------------|-----------------------------------|--------------------------|-------------------------|---------------------------|-------------------------|-------------------------------|-------------------------------------|----------------------------|---------------------------|-----------------------------|---------------------------|\n",
      "| FBgn0266683            |                   0.0523803 |                       -0.24213    |                3.02619   |              -0.0800117 |               0.936228    |            nan          |                     0.0523803 |                         -0.345827   |                  3.02619   |                 -0.114278 |                 0.909017    |              nan          |\n",
      "| FBgn0032429            |                 300.479     |                        0.0842307  |                0.0486946 |               1.72978   |               0.0836704   |              0.245267   |                   300.479     |                         -0.00504565 |                  0.0486958 |                 -0.103616 |                 0.917474    |                0.963455   |\n",
      "| FBgn0040011            |                3836.12      |                        0.153107   |                0.0666794 |               2.29617   |               0.0216659   |              0.0973118  |                  3836.12      |                         -0.101993   |                  0.0666793 |                 -1.52961  |                 0.126113    |                0.290368   |\n",
      "| FBgn0003124            |                3969.83      |                        0.0609721  |                0.0540877 |               1.12728   |               0.259624    |              0.501524   |                  3969.83      |                         -0.0766498  |                  0.0540877 |                 -1.41714  |                 0.156442    |                0.334233   |\n",
      "| FBgn0002732            |                   6.55988   |                        0.119396   |                0.298602  |               0.399849  |               0.689267    |              0.843923   |                     6.55988   |                          0.475066   |                  0.301143  |                  1.57754  |                 0.114671    |                0.272221   |\n",
      "| FBgn0032554            |                   0.318643  |                       -0.545822   |                2.16675   |              -0.251908  |               0.801112    |            nan          |                     0.318643  |                         -1.22659    |                  2.16675   |                 -0.566098 |                 0.571327    |              nan          |\n",
      "| FBgn0037186            |                 198.483     |                       -0.0518602  |                0.112327  |              -0.46169   |               0.644304    |              0.817952   |                   198.483     |                          0.313486   |                  0.112352  |                  2.79022  |                 0.00526729  |                0.0302727  |\n",
      "| FBgn0035023            |                 179.332     |                        0.0476661  |                0.100756  |               0.473086  |               0.636152    |              0.815051   |                   179.332     |                         -0.0871636  |                  0.100756  |                 -0.865097 |                 0.386986    |                0.591012   |\n",
      "| FBgn0028892            |                   0.965189  |                       -0.975865   |                1.08665   |              -0.898053  |               0.369157    |            nan          |                     0.965189  |                         -2.11322    |                  1.10977   |                 -1.90419  |                 0.0568848   |                0.170919   |\n",
      "| FBgn0264815            |                 184.747     |                       -0.272273   |                0.11596   |              -2.34799   |               0.0188748   |              0.0880248  |                   184.747     |                         -0.198551   |                  0.115944  |                 -1.71248  |                 0.0868084   |                0.226326   |\n",
      "| FBgn0032131            |                 197.902     |                        0.0146082  |                0.210865  |               0.0692774 |               0.944769    |              0.97422    |                   197.902     |                          0.704007   |                  0.210883  |                  3.33838  |                 0.000842687 |                0.00747504 |\n",
      "| FBgn0040608            |                  16.598     |                       -1.12968    |                0.271693  |              -4.15791   |               3.21167e-05 |              0.00050897 |                    16.598     |                         -0.364011   |                  0.26863   |                 -1.35507  |                 0.175397    |                0.358963   |\n",
      "| FBgn0036118            |                 103.082     |                        0.0443765  |                0.083046  |               0.534361  |               0.593092    |              0.78786    |                   103.082     |                          0.0788406  |                  0.0830772 |                  0.949004 |                 0.342618    |                0.546967   |\n",
      "| FBgn0029993            |                   4.72861   |                       -0.185289   |                0.381615  |              -0.48554   |               0.627293    |              0.809177   |                     4.72861   |                         -0.706732   |                  0.384952  |                 -1.8359   |                 0.0663726   |                0.189798   |\n",
      "| FBgn0014366            |                 680.546     |                       -0.0208991  |                0.0374548 |              -0.557982  |               0.576856    |              0.777194   |                   680.546     |                          0.0235487  |                  0.0374558 |                  0.628708 |                 0.52954     |                0.715095   |\n",
      "| FBgn0024293            |                 908.462     |                        0.29416    |                0.153027  |               1.92227   |               0.0545712   |              0.183514   |                   908.462     |                          0.215463   |                  0.153027  |                  1.408    |                 0.15913     |                0.338617   |\n",
      "| FBgn0015037            |                 274.762     |                        0.491121   |                0.258123  |               1.90266   |               0.057085    |              0.188558   |                   274.762     |                          0.31667    |                  0.258123  |                  1.22682  |                 0.219891    |                0.413696   |\n",
      "| FBgn0039282            |                  42.1845    |                       -0.514898   |                0.150189  |              -3.42833   |               0.000607311 |              0.00600813 |                    42.1845    |                         -0.397546   |                  0.149821  |                 -2.65348  |                 0.00796669  |                0.0412954  |\n",
      "| FBgn0053229            |                1012.75      |                       -0.00645256 |                0.0569437 |              -0.113315  |               0.909781    |              0.956194   |                  1012.75      |                         -0.0921204  |                  0.0569437 |                 -1.61775  |                 0.105717    |                0.258474   |\n",
      "| FBgn0264943            |                   0.0523803 |                       -0.24213    |                3.02619   |              -0.0800117 |               0.936228    |            nan          |                     0.0523803 |                         -0.345827   |                  3.02619   |                 -0.114278 |                 0.909017    |              nan          |\n"
     ]
    }
   ],
   "source": [
    "print(data_str)"
   ]
  },
  {
   "cell_type": "code",
   "execution_count": 218,
   "id": "6358a7bc-7760-4041-b708-19ffa4600cdb",
   "metadata": {},
   "outputs": [],
   "source": [
    "messages = [\n",
    "    {'role': 'user', 'content': llama.dataset_columns_description_prompt \n",
    "                                + llama.dataset_input.format(dataset_description=description, dataset=data_str)}\n",
    "]"
   ]
  },
  {
   "cell_type": "code",
   "execution_count": 219,
   "id": "72fe7d34-6a10-428d-8a49-45c2d98b5e42",
   "metadata": {},
   "outputs": [],
   "source": [
    "generation_params = {\n",
    "    'temperature': 0.0,\n",
    "    'max_tokens': 4096,\n",
    "}"
   ]
  },
  {
   "cell_type": "code",
   "execution_count": 220,
   "id": "255c90f6-b20a-4d78-b5f6-65bc86e3ac39",
   "metadata": {},
   "outputs": [],
   "source": [
    "model_name = 'gpt-4'"
   ]
  },
  {
   "cell_type": "code",
   "execution_count": 221,
   "id": "c213c5a8-cf1f-441f-9938-2cf6e4016733",
   "metadata": {},
   "outputs": [],
   "source": [
    "response = openai_utils.openai_generate(messages=messages, **generation_params)\n",
    "descriptions = utils.postprocess_response(response.choices[0].message.content)"
   ]
  },
  {
   "cell_type": "code",
   "execution_count": 222,
   "id": "eea9522e-482e-4868-b4d4-ec2f85bb0a68",
   "metadata": {},
   "outputs": [
    {
     "data": {
      "text/plain": [
       "{'GeneFBgn_or_TEfamily': {'description': 'Unique identifier for the gene or transposable element (TE) family.',\n",
       "  'data_type': 'string'},\n",
       " 'Age_old_vs_young.baseMean': {'description': 'The mean base value when comparing old versus young age groups.',\n",
       "  'data_type': 'float'},\n",
       " 'Age_old_vs_young.log2FoldChange': {'description': 'The log2 fold change when comparing old versus young age groups.',\n",
       "  'data_type': 'float'},\n",
       " 'Age_old_vs_young.lfcSE': {'description': 'The standard error of the log2 fold change when comparing old versus young age groups.',\n",
       "  'data_type': 'float'},\n",
       " 'Age_old_vs_young.stat': {'description': 'The statistical value when comparing old versus young age groups.',\n",
       "  'data_type': 'float'},\n",
       " 'Age_old_vs_young.pvalue': {'description': 'The p-value when comparing old versus young age groups.',\n",
       "  'data_type': 'float'},\n",
       " 'Age_old_vs_young.padj': {'description': 'The adjusted p-value when comparing old versus young age groups.',\n",
       "  'data_type': 'float'},\n",
       " 'Regime_Sel_vs_Cont.baseMean': {'description': 'The mean base value when comparing selected regime versus control.',\n",
       "  'data_type': 'float'},\n",
       " 'Regime_Sel_vs_Cont.log2FoldChange': {'description': 'The log2 fold change when comparing selected regime versus control.',\n",
       "  'data_type': 'float'},\n",
       " 'Regime_Sel_vs_Cont.lfcSE': {'description': 'The standard error of the log2 fold change when comparing selected regime versus control.',\n",
       "  'data_type': 'float'},\n",
       " 'Regime_Sel_vs_Cont.stat': {'description': 'The statistical value when comparing selected regime versus control.',\n",
       "  'data_type': 'float'},\n",
       " 'Regime_Sel_vs_Cont.pvalue': {'description': 'The p-value when comparing selected regime versus control.',\n",
       "  'data_type': 'float'},\n",
       " 'Regime_Sel_vs_Cont.padj': {'description': 'The adjusted p-value when comparing selected regime versus control.',\n",
       "  'data_type': 'float'}}"
      ]
     },
     "execution_count": 222,
     "metadata": {},
     "output_type": "execute_result"
    }
   ],
   "source": [
    "descriptions"
   ]
  },
  {
   "cell_type": "code",
   "execution_count": 223,
   "id": "a832e23a-2d6c-426a-96d5-942a9c1d82ac",
   "metadata": {},
   "outputs": [],
   "source": [
    "delimeter = '='*100+'\\n\\n'\n",
    "\n",
    "outputs = [\n",
    "    'GENERATION PARAMETERS\\n\\n' + pformat(generation_params, sort_dicts=False)+'\\n\\n',\n",
    "    'INPUT PROMPT\\n\\n' + messages[0]['content'],\n",
    "    'GENERATED DESCRIPTIONS\\n\\n' + pformat(descriptions, sort_dicts=False, width=100)\n",
    "]\n",
    "\n",
    "output = delimeter.join(outputs)\n",
    "\n",
    "data_name = data_filename.rsplit('.', 1)[0]\n",
    "name_parts = [model_name, data_name, 'txt']\n",
    "if sheet_name:\n",
    "    name_parts.insert(-1, sheet_name)\n",
    "\n",
    "output_filename = '.'.join(name_parts)\n",
    "\n",
    "outputs_path = os.path.join(dataset_dir, 'outputs')\n",
    "if not os.path.isdir(outputs_path):\n",
    "    os.makedirs(outputs_path)\n",
    "    \n",
    "output_fp = os.path.join(outputs_path, output_filename)\n",
    "\n",
    "with open(output_fp, 'w') as f:\n",
    "    f.write(output)"
   ]
  },
  {
   "cell_type": "code",
   "execution_count": null,
   "id": "2fcc473c-af5e-4047-89b6-543500e108ec",
   "metadata": {},
   "outputs": [],
   "source": []
  }
 ],
 "metadata": {
  "kernelspec": {
   "display_name": "Python 3 (ipykernel)",
   "language": "python",
   "name": "python3"
  },
  "language_info": {
   "codemirror_mode": {
    "name": "ipython",
    "version": 3
   },
   "file_extension": ".py",
   "mimetype": "text/x-python",
   "name": "python",
   "nbconvert_exporter": "python",
   "pygments_lexer": "ipython3",
   "version": "3.8.19"
  }
 },
 "nbformat": 4,
 "nbformat_minor": 5
}
