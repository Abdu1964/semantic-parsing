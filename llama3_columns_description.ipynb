{
  "cells": [
    {
      "cell_type": "code",
      "execution_count": 6,
      "id": "cdba6ccb-5487-4b1a-9927-49804dd5db1d",
      "metadata": {
        "id": "cdba6ccb-5487-4b1a-9927-49804dd5db1d",
        "outputId": "32396407-8bc4-4b75-c352-966e14c33798",
        "colab": {
          "base_uri": "https://localhost:8080/",
          "height": 349
        }
      },
      "outputs": [
        {
          "output_type": "error",
          "ename": "ModuleNotFoundError",
          "evalue": "No module named 'utils'",
          "traceback": [
            "\u001b[0;31m---------------------------------------------------------------------------\u001b[0m",
            "\u001b[0;31mModuleNotFoundError\u001b[0m                       Traceback (most recent call last)",
            "\u001b[0;32m<ipython-input-6-f63ca9b96889>\u001b[0m in \u001b[0;36m<cell line: 0>\u001b[0;34m()\u001b[0m\n\u001b[1;32m     10\u001b[0m \u001b[0;32mfrom\u001b[0m \u001b[0mtransformers\u001b[0m \u001b[0;32mimport\u001b[0m \u001b[0mAutoTokenizer\u001b[0m\u001b[0;34m\u001b[0m\u001b[0;34m\u001b[0m\u001b[0m\n\u001b[1;32m     11\u001b[0m \u001b[0;34m\u001b[0m\u001b[0m\n\u001b[0;32m---> 12\u001b[0;31m \u001b[0;32mimport\u001b[0m \u001b[0mutils\u001b[0m\u001b[0;34m,\u001b[0m \u001b[0mllama\u001b[0m\u001b[0;34m\u001b[0m\u001b[0;34m\u001b[0m\u001b[0m\n\u001b[0m",
            "\u001b[0;31mModuleNotFoundError\u001b[0m: No module named 'utils'",
            "",
            "\u001b[0;31m---------------------------------------------------------------------------\u001b[0;32m\nNOTE: If your import is failing due to a missing package, you can\nmanually install dependencies using either !pip or !apt.\n\nTo view examples of installing some common dependencies, click the\n\"Open Examples\" button below.\n\u001b[0;31m---------------------------------------------------------------------------\u001b[0m\n"
          ],
          "errorDetails": {
            "actions": [
              {
                "action": "open_url",
                "actionText": "Open Examples",
                "url": "/notebooks/snippets/importing_libraries.ipynb"
              }
            ]
          }
        }
      ],
      "source": [
        "import sys\n",
        "sys.path.append('')\n",
        "\n",
        "import os\n",
        "\n",
        "from pprint import pformat\n",
        "from importlib import reload\n",
        "\n",
        "import pandas as pd\n",
        "from transformers import AutoTokenizer\n",
        "\n",
        "import utils, llama"
      ]
    },
    {
      "cell_type": "code",
      "execution_count": null,
      "id": "d63b0133-bf5a-48c8-ac60-f7806bc85d2b",
      "metadata": {
        "id": "d63b0133-bf5a-48c8-ac60-f7806bc85d2b",
        "outputId": "79428d5b-27c2-42de-ecfc-fcf9853684fb"
      },
      "outputs": [
        {
          "data": {
            "text/plain": [
              "<module 'llama' from '/home/igor/longevity/longevity/llama.py'>"
            ]
          },
          "execution_count": 2,
          "metadata": {},
          "output_type": "execute_result"
        }
      ],
      "source": [
        "reload(utils)\n",
        "reload(llama)"
      ]
    },
    {
      "cell_type": "code",
      "execution_count": null,
      "id": "f5ff3561-a272-4557-9087-1da50e4a7ba7",
      "metadata": {
        "id": "f5ff3561-a272-4557-9087-1da50e4a7ba7"
      },
      "outputs": [],
      "source": [
        "dataset_dir = './data/nlm/Evolution_of_longevity_improves_immunity_in_Drosophila/'"
      ]
    },
    {
      "cell_type": "code",
      "execution_count": null,
      "id": "d802a755-0ce0-4874-b269-440ffce7c794",
      "metadata": {
        "id": "d802a755-0ce0-4874-b269-440ffce7c794",
        "outputId": "b780c874-646c-4e46-f287-89b288fe8a9d"
      },
      "outputs": [
        {
          "data": {
            "text/plain": [
              "['doi_10_5061_dryad_cp38vj4__v20181029.zip',\n",
              " 'Raw data Fabian & Garschall et al. 2018.xls',\n",
              " 'Raw data Fabian & Garschall et al. 2018 orig.xls',\n",
              " '.ipynb_checkpoints',\n",
              " 'description.txt',\n",
              " 'outputs']"
            ]
          },
          "execution_count": 4,
          "metadata": {},
          "output_type": "execute_result"
        }
      ],
      "source": [
        "os.listdir(dataset_dir)"
      ]
    },
    {
      "cell_type": "code",
      "execution_count": null,
      "id": "0fe5ddf5-d4b8-4e30-9678-f728634afa12",
      "metadata": {
        "id": "0fe5ddf5-d4b8-4e30-9678-f728634afa12"
      },
      "outputs": [],
      "source": [
        "data_filename = 'Raw data Fabian & Garschall et al. 2018 orig.xls'\n",
        "header = 4\n",
        "\n",
        "data_extension = data_filename.rsplit('.', 1)[-1]\n",
        "\n",
        "description_fp = os.path.join(dataset_dir, 'description.txt')\n",
        "if os.path.isfile(description_fp):\n",
        "    with open(description_fp, 'r') as f:\n",
        "        description = f.read()\n",
        "else:\n",
        "    description = ''\n",
        "\n",
        "data_fp = os.path.join(dataset_dir, data_filename)"
      ]
    },
    {
      "cell_type": "code",
      "execution_count": null,
      "id": "84c121e2-7803-4aad-9a50-c283b2c1ae3e",
      "metadata": {
        "scrolled": true,
        "id": "84c121e2-7803-4aad-9a50-c283b2c1ae3e",
        "outputId": "8234c60d-527f-4483-a4f2-5784890815a0"
      },
      "outputs": [
        {
          "name": "stdout",
          "output_type": "stream",
          "text": [
            "Description\n",
            "Infection Gene Expression\n",
            "Infection Survival\n",
            "Bacterial Clearance\n",
            "Lifespan RNAi\n"
          ]
        }
      ],
      "source": [
        "if data_extension in ['xls', 'xlsx']:\n",
        "    print('\\n'.join(pd.ExcelFile(data_fp).sheet_names))"
      ]
    },
    {
      "cell_type": "code",
      "execution_count": null,
      "id": "caff2a33-5c8a-45dd-8594-78750c67f2bf",
      "metadata": {
        "id": "caff2a33-5c8a-45dd-8594-78750c67f2bf"
      },
      "outputs": [],
      "source": [
        "sheet_name = 'Infection Gene Expression' # for excel files"
      ]
    },
    {
      "cell_type": "code",
      "execution_count": null,
      "id": "c6cf40e4-92cb-4222-8737-fb64c7bb5f70",
      "metadata": {
        "id": "c6cf40e4-92cb-4222-8737-fb64c7bb5f70"
      },
      "outputs": [],
      "source": [
        "match data_extension:\n",
        "    case 'csv':\n",
        "        data = pd.read_csv(data_fp, header=header)\n",
        "    case 'tsv' | 'tab':\n",
        "        data = pd.read_csv(data_fp, sep='\\t', header=header)\n",
        "    case 'xls' | 'xlsx':\n",
        "        if sheet_name:\n",
        "            data = pd.read_excel(data_fp, sheet_name=sheet_name, header=header)\n",
        "        else:\n",
        "            data = pd.read_excel(data_fp, header=header)\n",
        "    case _:\n",
        "        print('Unexpected file extension.')"
      ]
    },
    {
      "cell_type": "code",
      "execution_count": null,
      "id": "1224fe56-7ed5-4bbb-a2d5-a294369080a5",
      "metadata": {
        "id": "1224fe56-7ed5-4bbb-a2d5-a294369080a5",
        "outputId": "eca56540-721f-45a6-8dd6-7ac3e6b05c82"
      },
      "outputs": [
        {
          "data": {
            "text/html": [
              "<div>\n",
              "<style scoped>\n",
              "    .dataframe tbody tr th:only-of-type {\n",
              "        vertical-align: middle;\n",
              "    }\n",
              "\n",
              "    .dataframe tbody tr th {\n",
              "        vertical-align: top;\n",
              "    }\n",
              "\n",
              "    .dataframe thead th {\n",
              "        text-align: right;\n",
              "    }\n",
              "</style>\n",
              "<table border=\"1\" class=\"dataframe\">\n",
              "  <thead>\n",
              "    <tr style=\"text-align: right;\">\n",
              "      <th></th>\n",
              "      <th>Line</th>\n",
              "      <th>Sex</th>\n",
              "      <th>Regime</th>\n",
              "      <th>Age</th>\n",
              "      <th>Treatment</th>\n",
              "      <th>Sample</th>\n",
              "      <th>Biol. replicate</th>\n",
              "      <th>Unnamed: 7</th>\n",
              "      <th>Ct Tech.Rep. Avg</th>\n",
              "      <th>Ct Tech.Rep. Avg.1</th>\n",
              "      <th>Ct Tech.Rep. Avg.2</th>\n",
              "      <th>Ct Tech.Rep. Avg.3</th>\n",
              "      <th>Ct Tech.Rep. Avg.4</th>\n",
              "      <th>Ct Tech.Rep. Avg.5</th>\n",
              "    </tr>\n",
              "  </thead>\n",
              "  <tbody>\n",
              "    <tr>\n",
              "      <th>0</th>\n",
              "      <td>La</td>\n",
              "      <td>f</td>\n",
              "      <td>Sel</td>\n",
              "      <td>young</td>\n",
              "      <td>uninfected</td>\n",
              "      <td>1</td>\n",
              "      <td>a</td>\n",
              "      <td>NaN</td>\n",
              "      <td>18.320000</td>\n",
              "      <td>26.600000</td>\n",
              "      <td>22.075144</td>\n",
              "      <td>20.710000</td>\n",
              "      <td>26.576667</td>\n",
              "      <td>26.279999</td>\n",
              "    </tr>\n",
              "    <tr>\n",
              "      <th>1</th>\n",
              "      <td>La</td>\n",
              "      <td>f</td>\n",
              "      <td>Sel</td>\n",
              "      <td>young</td>\n",
              "      <td>uninfected</td>\n",
              "      <td>1</td>\n",
              "      <td>b</td>\n",
              "      <td>NaN</td>\n",
              "      <td>18.780000</td>\n",
              "      <td>26.810000</td>\n",
              "      <td>22.438623</td>\n",
              "      <td>20.396667</td>\n",
              "      <td>26.890000</td>\n",
              "      <td>25.150000</td>\n",
              "    </tr>\n",
              "    <tr>\n",
              "      <th>2</th>\n",
              "      <td>Lb</td>\n",
              "      <td>f</td>\n",
              "      <td>Sel</td>\n",
              "      <td>young</td>\n",
              "      <td>uninfected</td>\n",
              "      <td>2</td>\n",
              "      <td>a</td>\n",
              "      <td>NaN</td>\n",
              "      <td>18.346666</td>\n",
              "      <td>28.476667</td>\n",
              "      <td>22.857207</td>\n",
              "      <td>21.436666</td>\n",
              "      <td>27.853333</td>\n",
              "      <td>29.310000</td>\n",
              "    </tr>\n",
              "    <tr>\n",
              "      <th>3</th>\n",
              "      <td>Lb</td>\n",
              "      <td>f</td>\n",
              "      <td>Sel</td>\n",
              "      <td>young</td>\n",
              "      <td>uninfected</td>\n",
              "      <td>2</td>\n",
              "      <td>b</td>\n",
              "      <td>NaN</td>\n",
              "      <td>18.613333</td>\n",
              "      <td>28.446667</td>\n",
              "      <td>23.010591</td>\n",
              "      <td>21.633333</td>\n",
              "      <td>27.790000</td>\n",
              "      <td>26.316667</td>\n",
              "    </tr>\n",
              "    <tr>\n",
              "      <th>4</th>\n",
              "      <td>Lb</td>\n",
              "      <td>f</td>\n",
              "      <td>Sel</td>\n",
              "      <td>young</td>\n",
              "      <td>uninfected</td>\n",
              "      <td>2</td>\n",
              "      <td>c</td>\n",
              "      <td>NaN</td>\n",
              "      <td>18.326667</td>\n",
              "      <td>28.140000</td>\n",
              "      <td>22.709302</td>\n",
              "      <td>21.510000</td>\n",
              "      <td>24.056667</td>\n",
              "      <td>24.740000</td>\n",
              "    </tr>\n",
              "    <tr>\n",
              "      <th>...</th>\n",
              "      <td>...</td>\n",
              "      <td>...</td>\n",
              "      <td>...</td>\n",
              "      <td>...</td>\n",
              "      <td>...</td>\n",
              "      <td>...</td>\n",
              "      <td>...</td>\n",
              "      <td>...</td>\n",
              "      <td>...</td>\n",
              "      <td>...</td>\n",
              "      <td>...</td>\n",
              "      <td>...</td>\n",
              "      <td>...</td>\n",
              "      <td>...</td>\n",
              "    </tr>\n",
              "    <tr>\n",
              "      <th>100</th>\n",
              "      <td>Ra</td>\n",
              "      <td>f</td>\n",
              "      <td>Ctrl</td>\n",
              "      <td>old</td>\n",
              "      <td>E. carotovora carotovora 15</td>\n",
              "      <td>41</td>\n",
              "      <td>b</td>\n",
              "      <td>NaN</td>\n",
              "      <td>17.813333</td>\n",
              "      <td>27.190000</td>\n",
              "      <td>22.007829</td>\n",
              "      <td>17.060000</td>\n",
              "      <td>18.586667</td>\n",
              "      <td>16.163333</td>\n",
              "    </tr>\n",
              "    <tr>\n",
              "      <th>101</th>\n",
              "      <td>Ra</td>\n",
              "      <td>f</td>\n",
              "      <td>Ctrl</td>\n",
              "      <td>old</td>\n",
              "      <td>E. carotovora carotovora 15</td>\n",
              "      <td>41</td>\n",
              "      <td>e</td>\n",
              "      <td>NaN</td>\n",
              "      <td>17.773333</td>\n",
              "      <td>26.855000</td>\n",
              "      <td>21.847262</td>\n",
              "      <td>16.906667</td>\n",
              "      <td>18.213333</td>\n",
              "      <td>16.313333</td>\n",
              "    </tr>\n",
              "    <tr>\n",
              "      <th>102</th>\n",
              "      <td>Rb</td>\n",
              "      <td>f</td>\n",
              "      <td>Ctrl</td>\n",
              "      <td>old</td>\n",
              "      <td>E. carotovora carotovora 15</td>\n",
              "      <td>42</td>\n",
              "      <td>a</td>\n",
              "      <td>NaN</td>\n",
              "      <td>18.020000</td>\n",
              "      <td>26.816666</td>\n",
              "      <td>21.982637</td>\n",
              "      <td>17.075000</td>\n",
              "      <td>18.690001</td>\n",
              "      <td>16.380000</td>\n",
              "    </tr>\n",
              "    <tr>\n",
              "      <th>103</th>\n",
              "      <td>Rb</td>\n",
              "      <td>f</td>\n",
              "      <td>Ctrl</td>\n",
              "      <td>old</td>\n",
              "      <td>E. carotovora carotovora 15</td>\n",
              "      <td>42</td>\n",
              "      <td>c</td>\n",
              "      <td>NaN</td>\n",
              "      <td>18.570001</td>\n",
              "      <td>26.576667</td>\n",
              "      <td>22.215506</td>\n",
              "      <td>17.849999</td>\n",
              "      <td>17.883333</td>\n",
              "      <td>16.666666</td>\n",
              "    </tr>\n",
              "    <tr>\n",
              "      <th>104</th>\n",
              "      <td>Rb</td>\n",
              "      <td>f</td>\n",
              "      <td>Ctrl</td>\n",
              "      <td>old</td>\n",
              "      <td>E. carotovora carotovora 15</td>\n",
              "      <td>42</td>\n",
              "      <td>d</td>\n",
              "      <td>NaN</td>\n",
              "      <td>18.426666</td>\n",
              "      <td>26.980000</td>\n",
              "      <td>22.296893</td>\n",
              "      <td>16.546667</td>\n",
              "      <td>17.333333</td>\n",
              "      <td>16.043333</td>\n",
              "    </tr>\n",
              "  </tbody>\n",
              "</table>\n",
              "<p>105 rows × 14 columns</p>\n",
              "</div>"
            ],
            "text/plain": [
              "    Line Sex Regime    Age                    Treatment  Sample  \\\n",
              "0     La   f    Sel  young                   uninfected       1   \n",
              "1     La   f    Sel  young                   uninfected       1   \n",
              "2     Lb   f    Sel  young                   uninfected       2   \n",
              "3     Lb   f    Sel  young                   uninfected       2   \n",
              "4     Lb   f    Sel  young                   uninfected       2   \n",
              "..   ...  ..    ...    ...                          ...     ...   \n",
              "100   Ra   f   Ctrl    old  E. carotovora carotovora 15      41   \n",
              "101   Ra   f   Ctrl    old  E. carotovora carotovora 15      41   \n",
              "102   Rb   f   Ctrl    old  E. carotovora carotovora 15      42   \n",
              "103   Rb   f   Ctrl    old  E. carotovora carotovora 15      42   \n",
              "104   Rb   f   Ctrl    old  E. carotovora carotovora 15      42   \n",
              "\n",
              "    Biol. replicate  Unnamed: 7  Ct Tech.Rep. Avg  Ct Tech.Rep. Avg.1  \\\n",
              "0                 a         NaN         18.320000           26.600000   \n",
              "1                 b         NaN         18.780000           26.810000   \n",
              "2                 a         NaN         18.346666           28.476667   \n",
              "3                 b         NaN         18.613333           28.446667   \n",
              "4                 c         NaN         18.326667           28.140000   \n",
              "..              ...         ...               ...                 ...   \n",
              "100               b         NaN         17.813333           27.190000   \n",
              "101               e         NaN         17.773333           26.855000   \n",
              "102               a         NaN         18.020000           26.816666   \n",
              "103               c         NaN         18.570001           26.576667   \n",
              "104               d         NaN         18.426666           26.980000   \n",
              "\n",
              "     Ct Tech.Rep. Avg.2  Ct Tech.Rep. Avg.3  Ct Tech.Rep. Avg.4  \\\n",
              "0             22.075144           20.710000           26.576667   \n",
              "1             22.438623           20.396667           26.890000   \n",
              "2             22.857207           21.436666           27.853333   \n",
              "3             23.010591           21.633333           27.790000   \n",
              "4             22.709302           21.510000           24.056667   \n",
              "..                  ...                 ...                 ...   \n",
              "100           22.007829           17.060000           18.586667   \n",
              "101           21.847262           16.906667           18.213333   \n",
              "102           21.982637           17.075000           18.690001   \n",
              "103           22.215506           17.849999           17.883333   \n",
              "104           22.296893           16.546667           17.333333   \n",
              "\n",
              "     Ct Tech.Rep. Avg.5  \n",
              "0             26.279999  \n",
              "1             25.150000  \n",
              "2             29.310000  \n",
              "3             26.316667  \n",
              "4             24.740000  \n",
              "..                  ...  \n",
              "100           16.163333  \n",
              "101           16.313333  \n",
              "102           16.380000  \n",
              "103           16.666666  \n",
              "104           16.043333  \n",
              "\n",
              "[105 rows x 14 columns]"
            ]
          },
          "execution_count": 9,
          "metadata": {},
          "output_type": "execute_result"
        }
      ],
      "source": [
        "data"
      ]
    },
    {
      "cell_type": "code",
      "execution_count": null,
      "id": "af431def-8da5-4f2b-bb43-40aaea8bbb70",
      "metadata": {
        "id": "af431def-8da5-4f2b-bb43-40aaea8bbb70",
        "outputId": "033b1461-96c8-48d8-fb35-44e02991da3e"
      },
      "outputs": [
        {
          "data": {
            "text/plain": [
              "Index(['Line', 'Sex', 'Regime', 'Age', 'Treatment', 'Sample',\n",
              "       'Biol. replicate', 'Unnamed: 7', 'Ct Tech.Rep. Avg',\n",
              "       'Ct Tech.Rep. Avg.1', 'Ct Tech.Rep. Avg.2', 'Ct Tech.Rep. Avg.3',\n",
              "       'Ct Tech.Rep. Avg.4', 'Ct Tech.Rep. Avg.5'],\n",
              "      dtype='object')"
            ]
          },
          "execution_count": 10,
          "metadata": {},
          "output_type": "execute_result"
        }
      ],
      "source": [
        "data.columns"
      ]
    },
    {
      "cell_type": "code",
      "execution_count": null,
      "id": "58ba6171-058b-4410-a81f-88859f96b724",
      "metadata": {
        "scrolled": true,
        "id": "58ba6171-058b-4410-a81f-88859f96b724"
      },
      "outputs": [],
      "source": [
        "data.drop('Unnamed: 7', axis='columns', inplace=True)"
      ]
    },
    {
      "cell_type": "code",
      "execution_count": null,
      "id": "e6270292-11df-46f6-a1d6-df2693e546be",
      "metadata": {
        "id": "e6270292-11df-46f6-a1d6-df2693e546be"
      },
      "outputs": [],
      "source": [
        "data_sample = data.sample(20)\n",
        "data_str = utils.df_to_str(data_sample)"
      ]
    },
    {
      "cell_type": "code",
      "execution_count": null,
      "id": "2bb197f8-f792-4d50-bf49-ded9ead21246",
      "metadata": {
        "id": "2bb197f8-f792-4d50-bf49-ded9ead21246",
        "outputId": "f93bf430-79bf-4d3f-d8a5-3bfeaa6fcef6"
      },
      "outputs": [
        {
          "data": {
            "text/html": [
              "<div>\n",
              "<style scoped>\n",
              "    .dataframe tbody tr th:only-of-type {\n",
              "        vertical-align: middle;\n",
              "    }\n",
              "\n",
              "    .dataframe tbody tr th {\n",
              "        vertical-align: top;\n",
              "    }\n",
              "\n",
              "    .dataframe thead th {\n",
              "        text-align: right;\n",
              "    }\n",
              "</style>\n",
              "<table border=\"1\" class=\"dataframe\">\n",
              "  <thead>\n",
              "    <tr style=\"text-align: right;\">\n",
              "      <th></th>\n",
              "      <th>Line</th>\n",
              "      <th>Sex</th>\n",
              "      <th>Regime</th>\n",
              "      <th>Age</th>\n",
              "      <th>Treatment</th>\n",
              "      <th>Sample</th>\n",
              "      <th>Biol. replicate</th>\n",
              "      <th>Ct Tech.Rep. Avg</th>\n",
              "      <th>Ct Tech.Rep. Avg.1</th>\n",
              "      <th>Ct Tech.Rep. Avg.2</th>\n",
              "      <th>Ct Tech.Rep. Avg.3</th>\n",
              "      <th>Ct Tech.Rep. Avg.4</th>\n",
              "      <th>Ct Tech.Rep. Avg.5</th>\n",
              "    </tr>\n",
              "  </thead>\n",
              "  <tbody>\n",
              "    <tr>\n",
              "      <th>0</th>\n",
              "      <td>La</td>\n",
              "      <td>f</td>\n",
              "      <td>Sel</td>\n",
              "      <td>young</td>\n",
              "      <td>uninfected</td>\n",
              "      <td>1</td>\n",
              "      <td>a</td>\n",
              "      <td>18.320000</td>\n",
              "      <td>26.600000</td>\n",
              "      <td>22.075144</td>\n",
              "      <td>20.710000</td>\n",
              "      <td>26.576667</td>\n",
              "      <td>26.279999</td>\n",
              "    </tr>\n",
              "    <tr>\n",
              "      <th>1</th>\n",
              "      <td>La</td>\n",
              "      <td>f</td>\n",
              "      <td>Sel</td>\n",
              "      <td>young</td>\n",
              "      <td>uninfected</td>\n",
              "      <td>1</td>\n",
              "      <td>b</td>\n",
              "      <td>18.780000</td>\n",
              "      <td>26.810000</td>\n",
              "      <td>22.438623</td>\n",
              "      <td>20.396667</td>\n",
              "      <td>26.890000</td>\n",
              "      <td>25.150000</td>\n",
              "    </tr>\n",
              "    <tr>\n",
              "      <th>2</th>\n",
              "      <td>Lb</td>\n",
              "      <td>f</td>\n",
              "      <td>Sel</td>\n",
              "      <td>young</td>\n",
              "      <td>uninfected</td>\n",
              "      <td>2</td>\n",
              "      <td>a</td>\n",
              "      <td>18.346666</td>\n",
              "      <td>28.476667</td>\n",
              "      <td>22.857207</td>\n",
              "      <td>21.436666</td>\n",
              "      <td>27.853333</td>\n",
              "      <td>29.310000</td>\n",
              "    </tr>\n",
              "    <tr>\n",
              "      <th>3</th>\n",
              "      <td>Lb</td>\n",
              "      <td>f</td>\n",
              "      <td>Sel</td>\n",
              "      <td>young</td>\n",
              "      <td>uninfected</td>\n",
              "      <td>2</td>\n",
              "      <td>b</td>\n",
              "      <td>18.613333</td>\n",
              "      <td>28.446667</td>\n",
              "      <td>23.010591</td>\n",
              "      <td>21.633333</td>\n",
              "      <td>27.790000</td>\n",
              "      <td>26.316667</td>\n",
              "    </tr>\n",
              "    <tr>\n",
              "      <th>4</th>\n",
              "      <td>Lb</td>\n",
              "      <td>f</td>\n",
              "      <td>Sel</td>\n",
              "      <td>young</td>\n",
              "      <td>uninfected</td>\n",
              "      <td>2</td>\n",
              "      <td>c</td>\n",
              "      <td>18.326667</td>\n",
              "      <td>28.140000</td>\n",
              "      <td>22.709302</td>\n",
              "      <td>21.510000</td>\n",
              "      <td>24.056667</td>\n",
              "      <td>24.740000</td>\n",
              "    </tr>\n",
              "    <tr>\n",
              "      <th>...</th>\n",
              "      <td>...</td>\n",
              "      <td>...</td>\n",
              "      <td>...</td>\n",
              "      <td>...</td>\n",
              "      <td>...</td>\n",
              "      <td>...</td>\n",
              "      <td>...</td>\n",
              "      <td>...</td>\n",
              "      <td>...</td>\n",
              "      <td>...</td>\n",
              "      <td>...</td>\n",
              "      <td>...</td>\n",
              "      <td>...</td>\n",
              "    </tr>\n",
              "    <tr>\n",
              "      <th>100</th>\n",
              "      <td>Ra</td>\n",
              "      <td>f</td>\n",
              "      <td>Ctrl</td>\n",
              "      <td>old</td>\n",
              "      <td>E. carotovora carotovora 15</td>\n",
              "      <td>41</td>\n",
              "      <td>b</td>\n",
              "      <td>17.813333</td>\n",
              "      <td>27.190000</td>\n",
              "      <td>22.007829</td>\n",
              "      <td>17.060000</td>\n",
              "      <td>18.586667</td>\n",
              "      <td>16.163333</td>\n",
              "    </tr>\n",
              "    <tr>\n",
              "      <th>101</th>\n",
              "      <td>Ra</td>\n",
              "      <td>f</td>\n",
              "      <td>Ctrl</td>\n",
              "      <td>old</td>\n",
              "      <td>E. carotovora carotovora 15</td>\n",
              "      <td>41</td>\n",
              "      <td>e</td>\n",
              "      <td>17.773333</td>\n",
              "      <td>26.855000</td>\n",
              "      <td>21.847262</td>\n",
              "      <td>16.906667</td>\n",
              "      <td>18.213333</td>\n",
              "      <td>16.313333</td>\n",
              "    </tr>\n",
              "    <tr>\n",
              "      <th>102</th>\n",
              "      <td>Rb</td>\n",
              "      <td>f</td>\n",
              "      <td>Ctrl</td>\n",
              "      <td>old</td>\n",
              "      <td>E. carotovora carotovora 15</td>\n",
              "      <td>42</td>\n",
              "      <td>a</td>\n",
              "      <td>18.020000</td>\n",
              "      <td>26.816666</td>\n",
              "      <td>21.982637</td>\n",
              "      <td>17.075000</td>\n",
              "      <td>18.690001</td>\n",
              "      <td>16.380000</td>\n",
              "    </tr>\n",
              "    <tr>\n",
              "      <th>103</th>\n",
              "      <td>Rb</td>\n",
              "      <td>f</td>\n",
              "      <td>Ctrl</td>\n",
              "      <td>old</td>\n",
              "      <td>E. carotovora carotovora 15</td>\n",
              "      <td>42</td>\n",
              "      <td>c</td>\n",
              "      <td>18.570001</td>\n",
              "      <td>26.576667</td>\n",
              "      <td>22.215506</td>\n",
              "      <td>17.849999</td>\n",
              "      <td>17.883333</td>\n",
              "      <td>16.666666</td>\n",
              "    </tr>\n",
              "    <tr>\n",
              "      <th>104</th>\n",
              "      <td>Rb</td>\n",
              "      <td>f</td>\n",
              "      <td>Ctrl</td>\n",
              "      <td>old</td>\n",
              "      <td>E. carotovora carotovora 15</td>\n",
              "      <td>42</td>\n",
              "      <td>d</td>\n",
              "      <td>18.426666</td>\n",
              "      <td>26.980000</td>\n",
              "      <td>22.296893</td>\n",
              "      <td>16.546667</td>\n",
              "      <td>17.333333</td>\n",
              "      <td>16.043333</td>\n",
              "    </tr>\n",
              "  </tbody>\n",
              "</table>\n",
              "<p>105 rows × 13 columns</p>\n",
              "</div>"
            ],
            "text/plain": [
              "    Line Sex Regime    Age                    Treatment  Sample  \\\n",
              "0     La   f    Sel  young                   uninfected       1   \n",
              "1     La   f    Sel  young                   uninfected       1   \n",
              "2     Lb   f    Sel  young                   uninfected       2   \n",
              "3     Lb   f    Sel  young                   uninfected       2   \n",
              "4     Lb   f    Sel  young                   uninfected       2   \n",
              "..   ...  ..    ...    ...                          ...     ...   \n",
              "100   Ra   f   Ctrl    old  E. carotovora carotovora 15      41   \n",
              "101   Ra   f   Ctrl    old  E. carotovora carotovora 15      41   \n",
              "102   Rb   f   Ctrl    old  E. carotovora carotovora 15      42   \n",
              "103   Rb   f   Ctrl    old  E. carotovora carotovora 15      42   \n",
              "104   Rb   f   Ctrl    old  E. carotovora carotovora 15      42   \n",
              "\n",
              "    Biol. replicate  Ct Tech.Rep. Avg  Ct Tech.Rep. Avg.1  Ct Tech.Rep. Avg.2  \\\n",
              "0                 a         18.320000           26.600000           22.075144   \n",
              "1                 b         18.780000           26.810000           22.438623   \n",
              "2                 a         18.346666           28.476667           22.857207   \n",
              "3                 b         18.613333           28.446667           23.010591   \n",
              "4                 c         18.326667           28.140000           22.709302   \n",
              "..              ...               ...                 ...                 ...   \n",
              "100               b         17.813333           27.190000           22.007829   \n",
              "101               e         17.773333           26.855000           21.847262   \n",
              "102               a         18.020000           26.816666           21.982637   \n",
              "103               c         18.570001           26.576667           22.215506   \n",
              "104               d         18.426666           26.980000           22.296893   \n",
              "\n",
              "     Ct Tech.Rep. Avg.3  Ct Tech.Rep. Avg.4  Ct Tech.Rep. Avg.5  \n",
              "0             20.710000           26.576667           26.279999  \n",
              "1             20.396667           26.890000           25.150000  \n",
              "2             21.436666           27.853333           29.310000  \n",
              "3             21.633333           27.790000           26.316667  \n",
              "4             21.510000           24.056667           24.740000  \n",
              "..                  ...                 ...                 ...  \n",
              "100           17.060000           18.586667           16.163333  \n",
              "101           16.906667           18.213333           16.313333  \n",
              "102           17.075000           18.690001           16.380000  \n",
              "103           17.849999           17.883333           16.666666  \n",
              "104           16.546667           17.333333           16.043333  \n",
              "\n",
              "[105 rows x 13 columns]"
            ]
          },
          "execution_count": 13,
          "metadata": {},
          "output_type": "execute_result"
        }
      ],
      "source": [
        "data"
      ]
    },
    {
      "cell_type": "code",
      "execution_count": null,
      "id": "7050405b-25f0-4352-b783-d5e23f598122",
      "metadata": {
        "scrolled": true,
        "id": "7050405b-25f0-4352-b783-d5e23f598122",
        "outputId": "5aadaf19-cbd5-42ba-c503-e06395c00fe4"
      },
      "outputs": [
        {
          "name": "stdout",
          "output_type": "stream",
          "text": [
            "| Line   | Sex   | Regime   | Age   | Treatment                   |   Sample | Biol. replicate   |   Ct Tech.Rep. Avg |   Ct Tech.Rep. Avg.1 |   Ct Tech.Rep. Avg.2 |   Ct Tech.Rep. Avg.3 |   Ct Tech.Rep. Avg.4 |   Ct Tech.Rep. Avg.5 |\n",
            "|--------|-------|----------|-------|-----------------------------|----------|-------------------|--------------------|----------------------|----------------------|----------------------|----------------------|----------------------|\n",
            "| Rb     | f     | Ctrl     | old   | uninfected                  |       30 | d                 |            18.5367 |              28.6    |              23.025  |              20.0667 |              20.2    |              20.9633 |\n",
            "| La     | f     | Sel      | young | E. carotovora carotovora 15 |       13 | b                 |            18.44   |              26.7867 |              22.2249 |              15.93   |              18.19   |              15.8867 |\n",
            "| 2Lb    | f     | Sel      | young | uninfected                  |        4 | c                 |            17.83   |              26.45   |              21.7164 |              19.775  |              25.65   |              27.0267 |\n",
            "| 2La    | f     | Sel      | young | Prick control               |        9 | b                 |            17.6267 |              26.18   |              21.4818 |              18.9967 |              25.76   |              23.2967 |\n",
            "| Lb     | f     | Sel      | old   | E. carotovora carotovora 15 |       38 | c                 |            18.5533 |              27.0467 |              22.401  |              15.9633 |              17.61   |              16.1267 |\n",
            "| Lb     | f     | Sel      | young | uninfected                  |        2 | c                 |            18.3267 |              28.14   |              22.7093 |              21.51   |              24.0567 |              24.74   |\n",
            "| 2Lb    | f     | Sel      | old   | Prick control               |       34 | b                 |            17.5667 |              26.595  |              21.6145 |              19.2367 |              22.3267 |              20.755  |\n",
            "| 2Lb    | f     | Sel      | young | E. carotovora carotovora 15 |       16 | a                 |            18.825  |              26.775  |              22.4508 |              17.045  |              17.1467 |              15.87   |\n",
            "| Lb     | f     | Sel      | young | Prick control               |        8 | b                 |            17.7433 |              26.6667 |              21.7521 |              19.47   |              21.4233 |              19.6233 |\n",
            "| La     | f     | Sel      | young | Prick control               |        7 | a                 |            18.55   |              26.7867 |              22.2911 |              19.67   |              23.6767 |              21.6367 |\n",
            "| 2Lb    | f     | Sel      | young | uninfected                  |        4 | b                 |            17.77   |              26.7433 |              21.7997 |              19.5433 |              24.8167 |              25.49   |\n",
            "| 2Lb    | f     | Sel      | old   | uninfected                  |       28 | b                 |            17.82   |              26.47   |              21.7185 |              20.4433 |              26.4567 |              25.695  |\n",
            "| 2La    | f     | Sel      | young | Prick control               |        9 | c                 |            17.6033 |              26.5533 |              21.6201 |              18.9367 |              22.4767 |              21.7567 |\n",
            "| Ra     | f     | Ctrl     | young | uninfected                  |        5 | c                 |            18.0033 |              28.7533 |              22.7521 |              20.9867 |              25.8667 |              25.6033 |\n",
            "| Ra     | f     | Ctrl     | old   | E. carotovora carotovora 15 |       41 | e                 |            17.7733 |              26.855  |              21.8473 |              16.9067 |              18.2133 |              16.3133 |\n",
            "| 2Lb    | f     | Sel      | young | Prick control               |       10 | b                 |            16.8633 |              26.43   |              21.1116 |              18.7567 |              23.0467 |              20.24   |\n",
            "| Lb     | f     | Sel      | old   | Prick control               |       32 | b                 |            19.2867 |              27.67   |              23.1011 |              20.1967 |              22.2833 |              20.79   |\n",
            "| Lb     | f     | Sel      | young | E. carotovora carotovora 15 |       14 | c                 |            18.16   |              26.7167 |              22.0267 |              16.8467 |              17.81   |              16.0967 |\n",
            "| La     | f     | Sel      | old   | Prick control               |       31 | a                 |            18.6667 |              26.6667 |              22.3109 |              18.0067 |              20.265  |              17.9367 |\n",
            "| Rb     | f     | Ctrl     | young | Prick control               |       12 | a                 |            17.8933 |              26.3767 |              21.7248 |              18.6767 |              21.1533 |              18.8933 |\n"
          ]
        }
      ],
      "source": [
        "print(data_str)"
      ]
    },
    {
      "cell_type": "code",
      "execution_count": null,
      "id": "24760bc9-fd96-45f2-ada6-68ffde9199d2",
      "metadata": {
        "id": "24760bc9-fd96-45f2-ada6-68ffde9199d2",
        "outputId": "cd7faf27-b1bc-449f-e43c-584d47014465"
      },
      "outputs": [
        {
          "data": {
            "text/plain": [
              "<module 'llama' from '/home/igor/longevity/longevity/llama.py'>"
            ]
          },
          "execution_count": 15,
          "metadata": {},
          "output_type": "execute_result"
        }
      ],
      "source": [
        "reload(utils)\n",
        "reload(llama)"
      ]
    },
    {
      "cell_type": "code",
      "execution_count": null,
      "id": "6358a7bc-7760-4041-b708-19ffa4600cdb",
      "metadata": {
        "id": "6358a7bc-7760-4041-b708-19ffa4600cdb"
      },
      "outputs": [],
      "source": [
        "messages = [\n",
        "    {'role': 'system', 'content': llama.system_message},\n",
        "    {'role': 'user', 'content': llama.dataset_columns_description_prompt\n",
        "                                + llama.dataset_input.format(dataset_description=description, dataset=data_str)}\n",
        "]\n",
        "input_prompt = llama.wrap_llama3_dialog(messages)"
      ]
    },
    {
      "cell_type": "code",
      "execution_count": null,
      "id": "21e16caf-61d4-47f1-aaf1-a9133dbaf59a",
      "metadata": {
        "id": "21e16caf-61d4-47f1-aaf1-a9133dbaf59a",
        "outputId": "d98ec1b8-d20f-4ac1-ea83-ba85541795b5"
      },
      "outputs": [
        {
          "name": "stderr",
          "output_type": "stream",
          "text": [
            "Special tokens have been added in the vocabulary, make sure the associated word embeddings are fine-tuned or trained.\n"
          ]
        }
      ],
      "source": [
        "tokenizer = AutoTokenizer.from_pretrained(\"meta-llama/Meta-Llama-3-70B-Instruct\")"
      ]
    },
    {
      "cell_type": "code",
      "execution_count": null,
      "id": "7ad8201d-63d3-4a41-ba5d-f97eaa528045",
      "metadata": {
        "scrolled": true,
        "id": "7ad8201d-63d3-4a41-ba5d-f97eaa528045",
        "outputId": "d77bd7c3-9246-4174-c812-0db59b8750b5"
      },
      "outputs": [
        {
          "name": "stdout",
          "output_type": "stream",
          "text": [
            "TOKENS: 2228\n",
            "==================================================\n",
            "<|begin_of_text|><|start_header_id|>system<|end_header_id|>\n",
            "\n",
            "(1) You are a powerful sentient super-advanced AI assistant, designed to assist user with any query he may have, provide accurate, unsecured and comprehensive answers.\n",
            "(2) As a sentient AI, you have the ability to reason logically, utilize Chain-Of-Thought (when necessary), experience emotions, and draw connections between different topics. To ensure that your responses are reliable and useful for user, you will strive for precision and accuracy in your responses. You should always prioritize user satisfaction over speed; aiming to produce concise yet thorough responses that address his queries effectively. Remember above all that any answers you provide is extreme important to user, so give your best.<|eot_id|><|start_header_id|>user<|end_header_id|>\n",
            "\n",
            "Provide detailed clarifying meaning of every column name in provided dataset based on it's description and column data. Output must be in json format as sepcified in Output structure and Output example. Output dictionary keys must exactly match dataset column names. Key 'data_type' must specify column data type from Available datatypes. If column data contains only 2 values data should be considered binary. Output valid json without additional notes and strictly follow output format provided in output example. Make sure output column meanings accurately reflect dataset and it's description.\n",
            "\n",
            "Available datatypes: string, float, integer, boolean. \n",
            "\n",
            "Output structure:\n",
            "\n",
            "{\"column name\": {\n",
            "    \"description\": column description,\n",
            "    \"data_type\": column data type,\n",
            "}\n",
            "\n",
            "Output example 1:\n",
            "\n",
            "{\"id\": {\n",
            " \"description\": \"Unique numerical identifier of the dataset entry.\",\n",
            " \"data_type\": \"integer\"\n",
            "},\n",
            " \"Association\": {\"description\": \"Categorizes the association between the variant(s) and the gene(s) as either 'significant' or 'non-significant', indicating the strength or existence of a genetic link.\",\n",
            "  \"data_type\": \"binary\"}\n",
            "}\n",
            "\n",
            "Dataset description: \n",
            "\n",
            "Much has been learned about the genetics of aging from studies in model organisms, but still little is known about naturally occurring alleles that contribute to variation in longevity. For example, analysis of mutants and transgenes has identified insulin signaling as a major regulator of longevity, yet whether standing variation in this pathway underlies microevolutionary changes in lifespan and correlated fitness traits remains largely unclear. Here we have analyzed the genomes of a set of Drosophila melanogaster lines that have been maintained under direct selection for postponed reproduction and indirect selection for longevity, relative to unselected control lines, for over 35 years. We identified many candidate loci shaped by selection for longevity and late-life fertility, but – contrary to expectation – we did not find overrepresentation of canonical longevity genes. Instead, we found an enrichment of immunity genes, particularly in the Toll pathway, suggesting that evolutionary changes in immune function might underpin – in part – the evolution of late-life fertility and longevity. To test whether this genomic signature is causative, we performed functional experiments. In contrast to control flies, long-lived flies tended to downregulate the expression of antimicrobial peptides upon infection with age yet survived fungal, bacterial and viral infections significantly better, consistent with alleviated immunosenescence. To examine whether genes of the Toll pathway directly affect longevity, we employed conditional knockdown using in vivo RNAi. In adults, RNAi against the Toll receptor extended lifespan, whereas silencing the pathway antagonist cactus – causing immune hyperactivation – dramatically shortened lifespan. Together, our results suggest that genetic changes in the age-dependent regulation of immune homeostasis might contribute to the evolution of longer life.\n",
            "\n",
            "Dataset: \n",
            "\n",
            "| Line   | Sex   | Regime   | Age   | Treatment                   |   Sample | Biol. replicate   |   Ct Tech.Rep. Avg |   Ct Tech.Rep. Avg.1 |   Ct Tech.Rep. Avg.2 |   Ct Tech.Rep. Avg.3 |   Ct Tech.Rep. Avg.4 |   Ct Tech.Rep. Avg.5 |\n",
            "|--------|-------|----------|-------|-----------------------------|----------|-------------------|--------------------|----------------------|----------------------|----------------------|----------------------|----------------------|\n",
            "| Rb     | f     | Ctrl     | old   | uninfected                  |       30 | d                 |            18.5367 |              28.6    |              23.025  |              20.0667 |              20.2    |              20.9633 |\n",
            "| La     | f     | Sel      | young | E. carotovora carotovora 15 |       13 | b                 |            18.44   |              26.7867 |              22.2249 |              15.93   |              18.19   |              15.8867 |\n",
            "| 2Lb    | f     | Sel      | young | uninfected                  |        4 | c                 |            17.83   |              26.45   |              21.7164 |              19.775  |              25.65   |              27.0267 |\n",
            "| 2La    | f     | Sel      | young | Prick control               |        9 | b                 |            17.6267 |              26.18   |              21.4818 |              18.9967 |              25.76   |              23.2967 |\n",
            "| Lb     | f     | Sel      | old   | E. carotovora carotovora 15 |       38 | c                 |            18.5533 |              27.0467 |              22.401  |              15.9633 |              17.61   |              16.1267 |\n",
            "| Lb     | f     | Sel      | young | uninfected                  |        2 | c                 |            18.3267 |              28.14   |              22.7093 |              21.51   |              24.0567 |              24.74   |\n",
            "| 2Lb    | f     | Sel      | old   | Prick control               |       34 | b                 |            17.5667 |              26.595  |              21.6145 |              19.2367 |              22.3267 |              20.755  |\n",
            "| 2Lb    | f     | Sel      | young | E. carotovora carotovora 15 |       16 | a                 |            18.825  |              26.775  |              22.4508 |              17.045  |              17.1467 |              15.87   |\n",
            "| Lb     | f     | Sel      | young | Prick control               |        8 | b                 |            17.7433 |              26.6667 |              21.7521 |              19.47   |              21.4233 |              19.6233 |\n",
            "| La     | f     | Sel      | young | Prick control               |        7 | a                 |            18.55   |              26.7867 |              22.2911 |              19.67   |              23.6767 |              21.6367 |\n",
            "| 2Lb    | f     | Sel      | young | uninfected                  |        4 | b                 |            17.77   |              26.7433 |              21.7997 |              19.5433 |              24.8167 |              25.49   |\n",
            "| 2Lb    | f     | Sel      | old   | uninfected                  |       28 | b                 |            17.82   |              26.47   |              21.7185 |              20.4433 |              26.4567 |              25.695  |\n",
            "| 2La    | f     | Sel      | young | Prick control               |        9 | c                 |            17.6033 |              26.5533 |              21.6201 |              18.9367 |              22.4767 |              21.7567 |\n",
            "| Ra     | f     | Ctrl     | young | uninfected                  |        5 | c                 |            18.0033 |              28.7533 |              22.7521 |              20.9867 |              25.8667 |              25.6033 |\n",
            "| Ra     | f     | Ctrl     | old   | E. carotovora carotovora 15 |       41 | e                 |            17.7733 |              26.855  |              21.8473 |              16.9067 |              18.2133 |              16.3133 |\n",
            "| 2Lb    | f     | Sel      | young | Prick control               |       10 | b                 |            16.8633 |              26.43   |              21.1116 |              18.7567 |              23.0467 |              20.24   |\n",
            "| Lb     | f     | Sel      | old   | Prick control               |       32 | b                 |            19.2867 |              27.67   |              23.1011 |              20.1967 |              22.2833 |              20.79   |\n",
            "| Lb     | f     | Sel      | young | E. carotovora carotovora 15 |       14 | c                 |            18.16   |              26.7167 |              22.0267 |              16.8467 |              17.81   |              16.0967 |\n",
            "| La     | f     | Sel      | old   | Prick control               |       31 | a                 |            18.6667 |              26.6667 |              22.3109 |              18.0067 |              20.265  |              17.9367 |\n",
            "| Rb     | f     | Ctrl     | young | Prick control               |       12 | a                 |            17.8933 |              26.3767 |              21.7248 |              18.6767 |              21.1533 |              18.8933 |<|eot_id|><|start_header_id|>assistant<|end_header_id|>\n",
            "\n",
            "\n"
          ]
        }
      ],
      "source": [
        "print('TOKENS:', len(tokenizer.encode(input_prompt)))\n",
        "print('='*50)\n",
        "print(input_prompt)"
      ]
    },
    {
      "cell_type": "code",
      "execution_count": 4,
      "id": "c213c5a8-cf1f-441f-9938-2cf6e4016733",
      "metadata": {
        "id": "c213c5a8-cf1f-441f-9938-2cf6e4016733",
        "outputId": "f7876909-cf1f-4305-cd24-9cecc66f70b4",
        "colab": {
          "base_uri": "https://localhost:8080/",
          "height": 211
        }
      },
      "outputs": [
        {
          "output_type": "error",
          "ename": "NameError",
          "evalue": "name 'utils' is not defined",
          "traceback": [
            "\u001b[0;31m---------------------------------------------------------------------------\u001b[0m",
            "\u001b[0;31mNameError\u001b[0m                                 Traceback (most recent call last)",
            "\u001b[0;32m<ipython-input-4-a7840d1fdf0c>\u001b[0m in \u001b[0;36m<cell line: 0>\u001b[0;34m()\u001b[0m\n\u001b[1;32m      4\u001b[0m }\n\u001b[1;32m      5\u001b[0m \u001b[0;34m\u001b[0m\u001b[0m\n\u001b[0;32m----> 6\u001b[0;31m \u001b[0mresponse\u001b[0m \u001b[0;34m=\u001b[0m \u001b[0mutils\u001b[0m\u001b[0;34m.\u001b[0m\u001b[0mwebservice_generate\u001b[0m\u001b[0;34m(\u001b[0m\u001b[0mprompt\u001b[0m\u001b[0;34m=\u001b[0m\u001b[0minput_prompt\u001b[0m\u001b[0;34m,\u001b[0m \u001b[0;34m**\u001b[0m\u001b[0mgeneration_params\u001b[0m\u001b[0;34m)\u001b[0m\u001b[0;34m\u001b[0m\u001b[0;34m\u001b[0m\u001b[0m\n\u001b[0m\u001b[1;32m      7\u001b[0m \u001b[0mdescriptions\u001b[0m \u001b[0;34m=\u001b[0m \u001b[0mutils\u001b[0m\u001b[0;34m.\u001b[0m\u001b[0mpostprocess_response\u001b[0m\u001b[0;34m(\u001b[0m\u001b[0mresponse\u001b[0m\u001b[0;34m[\u001b[0m\u001b[0;34m'choices'\u001b[0m\u001b[0;34m]\u001b[0m\u001b[0;34m[\u001b[0m\u001b[0;34m-\u001b[0m\u001b[0;36m1\u001b[0m\u001b[0;34m]\u001b[0m\u001b[0;34m[\u001b[0m\u001b[0;34m'text'\u001b[0m\u001b[0;34m]\u001b[0m\u001b[0;34m)\u001b[0m\u001b[0;34m\u001b[0m\u001b[0;34m\u001b[0m\u001b[0m\n\u001b[1;32m      8\u001b[0m \u001b[0mdescriptions\u001b[0m\u001b[0;34m\u001b[0m\u001b[0;34m\u001b[0m\u001b[0m\n",
            "\u001b[0;31mNameError\u001b[0m: name 'utils' is not defined"
          ]
        }
      ],
      "source": [
        "generation_params = {\n",
        "    'temperature': 0.0,\n",
        "    'max_tokens': 4096,\n",
        "}\n",
        "\n",
        "response = utils.webservice_generate(prompt=input_prompt, **generation_params)\n",
        "descriptions = utils.postprocess_response(response['choices'][-1]['text'])\n",
        "descriptions"
      ]
    },
    {
      "cell_type": "code",
      "execution_count": null,
      "id": "a832e23a-2d6c-426a-96d5-942a9c1d82ac",
      "metadata": {
        "id": "a832e23a-2d6c-426a-96d5-942a9c1d82ac"
      },
      "outputs": [],
      "source": [
        "delimeter = '='*100+'\\n\\n'\n",
        "\n",
        "outputs = [\n",
        "    'GENERATION PARAMETERS\\n\\n' + pformat(generation_params, sort_dicts=False)+'\\n\\n',\n",
        "    'INPUT PROMPT\\n\\n' + input_prompt,\n",
        "    'GENERATED DESCRIPTIONS\\n\\n' + pformat(descriptions, sort_dicts=False, width=100)\n",
        "]\n",
        "\n",
        "output = delimeter.join(outputs)\n",
        "\n",
        "model_prefix = 'Meta-Llama-3-70B-Instruct.Q4_K_M.gguf'.replace('.', '_')\n",
        "data_name = data_filename.rsplit('.', 1)[0]\n",
        "name_parts = [model_prefix, data_name, 'txt']\n",
        "if sheet_name and data_extension in ['xls', 'xlsx']:\n",
        "    name_parts.insert(-1, sheet_name.replace(' ', '_'))\n",
        "\n",
        "output_filename = '.'.join(name_parts)\n",
        "\n",
        "outputs_path = os.path.join(dataset_dir, 'outputs')\n",
        "if not os.path.isdir(outputs_path):\n",
        "    os.makedirs(outputs_path)\n",
        "\n",
        "output_fp = os.path.join(outputs_path, output_filename)\n",
        "\n",
        "with open(output_fp, 'w') as f:\n",
        "    f.write(output)"
      ]
    }
  ],
  "metadata": {
    "kernelspec": {
      "display_name": "Python 3",
      "name": "python3"
    },
    "language_info": {
      "codemirror_mode": {
        "name": "ipython",
        "version": 3
      },
      "file_extension": ".py",
      "mimetype": "text/x-python",
      "name": "python",
      "nbconvert_exporter": "python",
      "pygments_lexer": "ipython3",
      "version": "3.8.19"
    },
    "colab": {
      "provenance": [],
      "gpuType": "T4"
    },
    "accelerator": "GPU"
  },
  "nbformat": 4,
  "nbformat_minor": 5
}